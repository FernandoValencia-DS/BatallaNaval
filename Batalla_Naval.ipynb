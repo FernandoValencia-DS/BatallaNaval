{
 "cells": [
  {
   "cell_type": "code",
   "execution_count": 1,
   "id": "eee0a7dd-e4aa-4632-bc4e-a14738b93270",
   "metadata": {},
   "outputs": [
    {
     "name": "stdout",
     "output_type": "stream",
     "text": [
      "este es su tablero de juego Jugador 1\n",
      "['a', 'a', 'a', 'a', 'a']\n",
      "['a', 'a', 'a', 'a', 'a']\n",
      "['a', 'a', 'a', 'a', 'a']\n",
      "['a', 'a', 'a', 'a', 'a']\n",
      "['a', 'a', 'a', 'a', 'a']\n",
      "Jugador 1 seleccione la fila de la posición incial de su barco de tamaño 2\n"
     ]
    },
    {
     "name": "stdin",
     "output_type": "stream",
     "text": [
      " 3\n"
     ]
    },
    {
     "name": "stdout",
     "output_type": "stream",
     "text": [
      "Jugador 1 seleccione la columna de la posición incial de su barco de tamaño 2\n"
     ]
    },
    {
     "name": "stdin",
     "output_type": "stream",
     "text": [
      " 3\n"
     ]
    },
    {
     "name": "stdout",
     "output_type": "stream",
     "text": [
      "Jugador 1 seleccione la orientación incial de su barco de tamaño 2 V para vertical, H para Horizontal\n"
     ]
    },
    {
     "name": "stdin",
     "output_type": "stream",
     "text": [
      " v\n"
     ]
    },
    {
     "name": "stdout",
     "output_type": "stream",
     "text": [
      "posición valida\n",
      "este es su tablero de juego Jugador 1\n",
      "['a', 'a', 'a', 'a', 'a']\n",
      "['a', 'a', 'a', 'a', 'a']\n",
      "['a', 'a', 'b1', 'a', 'a']\n",
      "['a', 'a', 'b1', 'a', 'a']\n",
      "['a', 'a', 'a', 'a', 'a']\n",
      "Jugador 1 seleccione la fila de la posición inicial de su barco de tamaño 3\n"
     ]
    },
    {
     "name": "stdin",
     "output_type": "stream",
     "text": [
      " 1\n"
     ]
    },
    {
     "name": "stdout",
     "output_type": "stream",
     "text": [
      "Jugador 1 seleccione la columna de la posición inicial de su barco de tamaño 3\n"
     ]
    },
    {
     "name": "stdin",
     "output_type": "stream",
     "text": [
      " 1\n"
     ]
    },
    {
     "name": "stdout",
     "output_type": "stream",
     "text": [
      "Jugador 1 seleccione la orientación inicial de su barco de tamaño 3 V para vertical, H para horizontal\n"
     ]
    },
    {
     "name": "stdin",
     "output_type": "stream",
     "text": [
      " h\n"
     ]
    },
    {
     "name": "stdout",
     "output_type": "stream",
     "text": [
      "Posición válida\n",
      "este es su tablero de juego Jugador 1\n",
      "['b2', 'b2', 'b2', 'a', 'a']\n",
      "['a', 'a', 'a', 'a', 'a']\n",
      "['a', 'a', 'b1', 'a', 'a']\n",
      "['a', 'a', 'b1', 'a', 'a']\n",
      "['a', 'a', 'a', 'a', 'a']\n",
      "este es su tablero de juego Jugador 2\n",
      "['a', 'a', 'a', 'a', 'a']\n",
      "['a', 'a', 'a', 'a', 'a']\n",
      "['a', 'a', 'a', 'a', 'a']\n",
      "['a', 'a', 'a', 'a', 'a']\n",
      "['a', 'a', 'a', 'a', 'a']\n",
      "Jugador 2 seleccione la fila de la posición incial de su barco de tamaño 2\n"
     ]
    },
    {
     "name": "stdin",
     "output_type": "stream",
     "text": [
      " 4\n"
     ]
    },
    {
     "name": "stdout",
     "output_type": "stream",
     "text": [
      "Jugador 2 seleccione la columna de la posición incial de su barco de tamaño 2\n"
     ]
    },
    {
     "name": "stdin",
     "output_type": "stream",
     "text": [
      " 5\n"
     ]
    },
    {
     "name": "stdout",
     "output_type": "stream",
     "text": [
      "Jugador 2 seleccione la orientación incial de su barco de tamaño 2 V para vertical, H para Horizontal\n"
     ]
    },
    {
     "name": "stdin",
     "output_type": "stream",
     "text": [
      " v\n"
     ]
    },
    {
     "name": "stdout",
     "output_type": "stream",
     "text": [
      "posición valida\n",
      "este es su tablero de juego Jugador 2\n",
      "['a', 'a', 'a', 'a', 'a']\n",
      "['a', 'a', 'a', 'a', 'a']\n",
      "['a', 'a', 'a', 'a', 'a']\n",
      "['a', 'a', 'a', 'a', 'b1']\n",
      "['a', 'a', 'a', 'a', 'b1']\n",
      "Jugador 2 seleccione la fila de la posición inicial de su barco de tamaño 3\n"
     ]
    },
    {
     "name": "stdin",
     "output_type": "stream",
     "text": [
      " 2\n"
     ]
    },
    {
     "name": "stdout",
     "output_type": "stream",
     "text": [
      "Jugador 2 seleccione la columna de la posición inicial de su barco de tamaño 3\n"
     ]
    },
    {
     "name": "stdin",
     "output_type": "stream",
     "text": [
      " 2\n"
     ]
    },
    {
     "name": "stdout",
     "output_type": "stream",
     "text": [
      "Jugador 2 seleccione la orientación inicial de su barco de tamaño 3 V para vertical, H para horizontal\n"
     ]
    },
    {
     "name": "stdin",
     "output_type": "stream",
     "text": [
      " h\n"
     ]
    },
    {
     "name": "stdout",
     "output_type": "stream",
     "text": [
      "Posición válida\n",
      "este es su tablero de juego Jugador 2\n",
      "['a', 'a', 'a', 'a', 'a']\n",
      "['a', 'b2', 'b2', 'b2', 'a']\n",
      "['a', 'a', 'a', 'a', 'a']\n",
      "['a', 'a', 'a', 'a', 'b1']\n",
      "['a', 'a', 'a', 'a', 'b1']\n",
      "¡Hora de Jugar!\n",
      "Jugador 1 elige donde atacar\n",
      "Jugador 1 seleccione la ubicación  a atacar\n"
     ]
    },
    {
     "name": "stdin",
     "output_type": "stream",
     "text": [
      "Fila:  2\n",
      "Columna:  1\n"
     ]
    },
    {
     "name": "stdout",
     "output_type": "stream",
     "text": [
      "No se acertó a ningún barco\n",
      "Jugador 2 seleccione la ubicación  a atacar\n"
     ]
    },
    {
     "name": "stdin",
     "output_type": "stream",
     "text": [
      "Fila:  5\n",
      "Columna:  5\n"
     ]
    },
    {
     "name": "stdout",
     "output_type": "stream",
     "text": [
      "No se acertó a ningún barco\n",
      "Jugador 1 seleccione la ubicación  a atacar\n"
     ]
    },
    {
     "name": "stdin",
     "output_type": "stream",
     "text": [
      "Fila:  5\n",
      "Columna:  5\n"
     ]
    },
    {
     "name": "stdout",
     "output_type": "stream",
     "text": [
      "Se golpeó un barco\n",
      "Jugador 2 seleccione la ubicación  a atacar\n"
     ]
    },
    {
     "name": "stdin",
     "output_type": "stream",
     "text": [
      "Fila:  3\n",
      "Columna:  3\n"
     ]
    },
    {
     "name": "stdout",
     "output_type": "stream",
     "text": [
      "Se golpeó un barco\n",
      "Jugador 1 seleccione la ubicación  a atacar\n"
     ]
    },
    {
     "name": "stdin",
     "output_type": "stream",
     "text": [
      "Fila:  4\n",
      "Columna:  5\n"
     ]
    },
    {
     "name": "stdout",
     "output_type": "stream",
     "text": [
      "Se golpeó un barco\n",
      "Jugador 2 seleccione la ubicación  a atacar\n"
     ]
    },
    {
     "name": "stdin",
     "output_type": "stream",
     "text": [
      "Fila:  3\n",
      "Columna:  4\n"
     ]
    },
    {
     "name": "stdout",
     "output_type": "stream",
     "text": [
      "No se acertó a ningún barco\n",
      "Jugador 1 seleccione la ubicación  a atacar\n"
     ]
    },
    {
     "name": "stdin",
     "output_type": "stream",
     "text": [
      "Fila:  3\n",
      "Columna:  5\n"
     ]
    },
    {
     "name": "stdout",
     "output_type": "stream",
     "text": [
      "No se acertó a ningún barco\n",
      "Jugador 2 seleccione la ubicación  a atacar\n"
     ]
    },
    {
     "name": "stdin",
     "output_type": "stream",
     "text": [
      "Fila:  4\n",
      "Columna:  3\n"
     ]
    },
    {
     "name": "stdout",
     "output_type": "stream",
     "text": [
      "Se golpeó un barco\n",
      "Jugador 1 seleccione la ubicación  a atacar\n"
     ]
    },
    {
     "name": "stdin",
     "output_type": "stream",
     "text": [
      "Fila:  2\n",
      "Columna:  2\n"
     ]
    },
    {
     "name": "stdout",
     "output_type": "stream",
     "text": [
      "Se golpeó un barco\n",
      "Jugador 2 seleccione la ubicación  a atacar\n"
     ]
    },
    {
     "name": "stdin",
     "output_type": "stream",
     "text": [
      "Fila:  1\n",
      "Columna:  1\n"
     ]
    },
    {
     "name": "stdout",
     "output_type": "stream",
     "text": [
      "Se golpeó un barco\n",
      "Jugador 1 seleccione la ubicación  a atacar\n"
     ]
    },
    {
     "name": "stdin",
     "output_type": "stream",
     "text": [
      "Fila:  3\n",
      "Columna:  2\n"
     ]
    },
    {
     "name": "stdout",
     "output_type": "stream",
     "text": [
      "No se acertó a ningún barco\n",
      "Jugador 2 seleccione la ubicación  a atacar\n"
     ]
    },
    {
     "name": "stdin",
     "output_type": "stream",
     "text": [
      "Fila:  1\n",
      "Columna:  2\n"
     ]
    },
    {
     "name": "stdout",
     "output_type": "stream",
     "text": [
      "Se golpeó un barco\n",
      "Jugador 1 seleccione la ubicación  a atacar\n"
     ]
    },
    {
     "name": "stdin",
     "output_type": "stream",
     "text": [
      "Fila:  4\n",
      "Columna:  2\n"
     ]
    },
    {
     "name": "stdout",
     "output_type": "stream",
     "text": [
      "No se acertó a ningún barco\n",
      "Jugador 2 seleccione la ubicación  a atacar\n"
     ]
    },
    {
     "name": "stdin",
     "output_type": "stream",
     "text": [
      "Fila:  1\n",
      "Columna:  3\n"
     ]
    },
    {
     "name": "stdout",
     "output_type": "stream",
     "text": [
      "Se golpeó un barco\n",
      "El jugador 2 ha ganado\n"
     ]
    }
   ],
   "source": [
    "#Proyecto Batalla Naval Python\n",
    "matriz_1 = [\n",
    "    [\"a\",\"a\",\"a\",\"a\",\"a\"],\n",
    "    [\"a\",\"a\",\"a\",\"a\",\"a\"],\n",
    "    [\"a\",\"a\",\"a\",\"a\",\"a\"],\n",
    "    [\"a\",\"a\",\"a\",\"a\",\"a\"],\n",
    "    [\"a\",\"a\",\"a\",\"a\",\"a\"]]\n",
    "\n",
    "print(\"este es su tablero de juego Jugador 1\")\n",
    "for fila in matriz_1:\n",
    "    print (fila)\n",
    "\n",
    "datos_j1b1 =  False\n",
    "\n",
    "while not datos_j1b1:\n",
    "    print(\"Jugador 1 seleccione la fila de la posición incial de su barco de tamaño 2\")\n",
    "    fila_j1b1 = int(input())\n",
    "    \n",
    "    print(\"Jugador 1 seleccione la columna de la posición incial de su barco de tamaño 2\")\n",
    "    columna_j1b1 = int(input())\n",
    "    \n",
    "    print(\"Jugador 1 seleccione la orientación incial de su barco de tamaño 2 V para vertical, H para Horizontal\")\n",
    "    orien_j1b1 = input().lower()\n",
    "    \n",
    "    if (fila_j1b1 == 5 and orien_j1b1 == 'v') or (columna_j1b1 == 5 and orien_j1b1 == 'h'):\n",
    "        print('posición invalida. Vuelva a ingresar los datos')\n",
    "        continue\n",
    "    else:\n",
    "        print('posición valida')\n",
    "        datos_j1b1 =  True\n",
    "        \n",
    "matriz_1[fila_j1b1-1][columna_j1b1-1] = 'b1'\n",
    "\n",
    "if orien_j1b1 == 'v':\n",
    "    matriz_1[fila_j1b1][columna_j1b1-1] = 'b1'\n",
    "else:\n",
    "    matriz_1[fila_j1b1-1][columna_j1b1] = 'b1'\n",
    "\n",
    "print(\"este es su tablero de juego Jugador 1\")\n",
    "for fila in matriz_1:\n",
    "    print (fila)\n",
    "\n",
    "\n",
    "# Colocación del segundo barco de tamaño 3\n",
    "datos_j1b2 = False\n",
    "while not datos_j1b2:\n",
    "    print(\"Jugador 1 seleccione la fila de la posición inicial de su barco de tamaño 3\")\n",
    "    fila_j1b2 = int(input())\n",
    "    \n",
    "    print(\"Jugador 1 seleccione la columna de la posición inicial de su barco de tamaño 3\")\n",
    "    columna_j1b2 = int(input())\n",
    "    \n",
    "    print(\"Jugador 1 seleccione la orientación inicial de su barco de tamaño 3 V para vertical, H para horizontal\")\n",
    "    orien_j1b2 = input().lower()\n",
    "    \n",
    "    # Verificar si el barco de tamaño 3 se cruza con el barco anterior o sale de la matriz\n",
    "    if (fila_j1b2 >= 4 and orien_j1b2 == 'v') or (columna_j1b2 >= 4 and orien_j1b2 == 'h'):\n",
    "        print('Posición inválida. El barco se sale del tablero. Vuelva a ingresar los datos.')\n",
    "        continue\n",
    "    \n",
    "    cruzado = False\n",
    "    \n",
    "    # Verificar si el barco se cruza con el otro\n",
    "    if orien_j1b2 == 'v':\n",
    "        for i in range(3):\n",
    "            if matriz_1[fila_j1b2-1+i][columna_j1b2-1] != 'a':\n",
    "                cruzado = True\n",
    "                break\n",
    "    else:\n",
    "        for i in range(3):\n",
    "            if matriz_1[fila_j1b2-1][columna_j1b2-1+i] != 'a':\n",
    "                cruzado = True\n",
    "                break\n",
    "    \n",
    "    if cruzado:\n",
    "        print('Posición inválida. El barco se cruza con otro. Vuelva a ingresar los datos.')\n",
    "        continue\n",
    "    else:\n",
    "        print('Posición válida')\n",
    "        datos_j1b2 = True\n",
    "\n",
    "# Coloca el segundo barco en la matriz\n",
    "if orien_j1b2 == 'v':\n",
    "    for i in range(3):\n",
    "        matriz_1[fila_j1b2-1+i][columna_j1b2-1] = 'b2'\n",
    "else:\n",
    "    for i in range(3):\n",
    "        matriz_1[fila_j1b2-1][columna_j1b2-1+i] = 'b2'\n",
    "\n",
    "print(\"este es su tablero de juego Jugador 1\")\n",
    "for fila in matriz_1:\n",
    "    print (fila)\n",
    "\n",
    "\n",
    "#Jugador 2\n",
    "\n",
    "matriz_2 = [\n",
    "    [\"a\",\"a\",\"a\",\"a\",\"a\"],\n",
    "    [\"a\",\"a\",\"a\",\"a\",\"a\"],\n",
    "    [\"a\",\"a\",\"a\",\"a\",\"a\"],\n",
    "    [\"a\",\"a\",\"a\",\"a\",\"a\"],\n",
    "    [\"a\",\"a\",\"a\",\"a\",\"a\"]]\n",
    "\n",
    "print(\"este es su tablero de juego Jugador 2\")\n",
    "for fila in matriz_2:\n",
    "    print (fila)\n",
    "\n",
    "datos_j2b1 =  False\n",
    "\n",
    "while not datos_j2b1:\n",
    "    print(\"Jugador 2 seleccione la fila de la posición incial de su barco de tamaño 2\")\n",
    "    fila_j2b1 = int(input())\n",
    "    \n",
    "    print(\"Jugador 2 seleccione la columna de la posición incial de su barco de tamaño 2\")\n",
    "    columna_j2b1 = int(input())\n",
    "    \n",
    "    print(\"Jugador 2 seleccione la orientación incial de su barco de tamaño 2 V para vertical, H para Horizontal\")\n",
    "    orien_j2b1 = input().lower()\n",
    "    \n",
    "    if (fila_j2b1 == 5 and orien_j2b1 == 'v') or (columna_j2b1 == 5 and orien_j2b1 == 'h'):\n",
    "        print('posición invalida. Vuelva a ingresar los datos')\n",
    "        continue\n",
    "    else:\n",
    "        print('posición valida')\n",
    "        datos_j2b1 =  True\n",
    "        \n",
    "matriz_2[fila_j2b1-1][columna_j2b1-1] = 'b1'\n",
    "\n",
    "if orien_j2b1 == 'v':\n",
    "    matriz_2[fila_j2b1][columna_j2b1-1] = 'b1'\n",
    "else:\n",
    "    matriz_2[fila_j2b1-1][columna_j2b1] = 'b1'\n",
    "\n",
    "print(\"este es su tablero de juego Jugador 2\")\n",
    "for fila in matriz_2:\n",
    "    print (fila)\n",
    "\n",
    "\n",
    "# Colocación del segundo barco de tamaño 3\n",
    "datos_j2b2 = False\n",
    "while not datos_j2b2:\n",
    "    print(\"Jugador 2 seleccione la fila de la posición inicial de su barco de tamaño 3\")\n",
    "    fila_j2b2 = int(input())\n",
    "    \n",
    "    print(\"Jugador 2 seleccione la columna de la posición inicial de su barco de tamaño 3\")\n",
    "    columna_j2b2 = int(input())\n",
    "    \n",
    "    print(\"Jugador 2 seleccione la orientación inicial de su barco de tamaño 3 V para vertical, H para horizontal\")\n",
    "    orien_j2b2 = input().lower()\n",
    "    \n",
    "    # Verificar si el barco de tamaño 3 se cruza con el barco anterior o sale de la matriz\n",
    "    if (fila_j2b2 >= 4 and orien_j2b2 == 'v') or (columna_j2b2 >= 4 and orien_j2b2 == 'h'):\n",
    "        print('Posición inválida. El barco se sale del tablero. Vuelva a ingresar los datos.')\n",
    "        continue\n",
    "    \n",
    "    cruzado = False\n",
    "    \n",
    "    # Verificar si el barco se cruza con el otro\n",
    "    if orien_j2b2 == 'v':\n",
    "        for i in range(3):\n",
    "            if matriz_2[fila_j2b2-1+i][columna_j2b2-1] != 'a':\n",
    "                cruzado = True\n",
    "                break\n",
    "    else:\n",
    "        for i in range(3):\n",
    "            if matriz_2[fila_j2b2-1][columna_j2b2-1+i] != 'a':\n",
    "                cruzado = True\n",
    "                break\n",
    "    \n",
    "    if cruzado:\n",
    "        print('Posición inválida. El barco se cruza con otro. Vuelva a ingresar los datos.')\n",
    "        continue\n",
    "    else:\n",
    "        print('Posición válida')\n",
    "        datos_j2b2 = True\n",
    "\n",
    "# Coloca el segundo barco en la matriz\n",
    "if orien_j2b2 == 'v':\n",
    "    for i in range(3):\n",
    "        matriz_2[fila_j2b2-1+i][columna_j2b2-1] = 'b2'\n",
    "else:\n",
    "    for i in range(3):\n",
    "        matriz_2[fila_j2b2-1][columna_j2b2-1+i] = 'b2'\n",
    "\n",
    "print(\"este es su tablero de juego Jugador 2\")\n",
    "for fila in matriz_2:\n",
    "    print (fila)\n",
    "\n",
    "# Jugar\n",
    "\n",
    "print(\"¡Hora de Jugar!\")\n",
    "\n",
    "print(\"Jugador 1 elige donde atacar\")\n",
    "\n",
    "final = False\n",
    "\n",
    "while not final:\n",
    "\n",
    "    print(\"Jugador 1 seleccione la ubicación  a atacar\")\n",
    "    ataquef1 = int(input(\"Fila: \" ))\n",
    "    ataquec1 = int(input(\"Columna: \" ))\n",
    "\n",
    "    if ataquef1 < 1 or ataquef1 > 5 or ataquec1 < 1 or ataquec1 > 5:\n",
    "        print(f\"La ubicación ({ataquef1},{ataquec1}) no existe\")\n",
    "        continue\n",
    "    \n",
    "    if (matriz_2[ataquef1-1][ataquec1-1] == 'x') or (matriz_2[ataquef1-1][ataquec1-1] == 'n'):\n",
    "        print(f\"La ubicación ({ataquef1},{ataquec1}) ya ha sido atacada\")\n",
    "        continue\n",
    "    elif matriz_2[ataquef1-1][ataquec1-1] == 'a':\n",
    "        print(\"No se acertó a ningún barco\")\n",
    "        matriz_2[ataquef1-1][ataquec1-1] = 'n'\n",
    "    else:\n",
    "        print(\"Se golpeó un barco\")\n",
    "        matriz_2[ataquef1-1][ataquec1-1] = 'x'\n",
    "        \n",
    "    estado_matriz2 = [i for fila in matriz_2 for i in fila if i == 'b1' or i == 'b2']\n",
    "        \n",
    "    if len(estado_matriz2) == 0:\n",
    "        print('El jugador 1 ha ganado')\n",
    "        final = True\n",
    "        continue\n",
    "        \n",
    "    else:\n",
    "            print(\"Jugador 2 seleccione la ubicación  a atacar\")\n",
    "            ataquef2 = int(input(\"Fila: \" ))\n",
    "            ataquec2 = int(input(\"Columna: \" ))\n",
    "        \n",
    "            if ataquef2 < 1 or ataquef2 > 5 or ataquec2 < 1 or ataquec2 > 5:\n",
    "                print(f\"La ubicación ({ataquef2},{ataquec2}) no existe\")\n",
    "                continue\n",
    "            \n",
    "            if (matriz_1[ataquef2-1][ataquec2-1] == 'x') or (matriz_1[ataquef2-1][ataquec2-1] == 'n'):\n",
    "                print(f\"La ubicación ({ataquef2},{ataquec2}) ya ha sido atacada\")\n",
    "                continue\n",
    "            elif matriz_1[ataquef2-1][ataquec2-1] == 'a':\n",
    "                print(\"No se acertó a ningún barco\")\n",
    "                matriz_1[ataquef2-1][ataquec2-1] = 'n'\n",
    "            else:\n",
    "                print(\"Se golpeó un barco\")\n",
    "                matriz_1[ataquef2-1][ataquec2-1] = 'x'\n",
    "                \n",
    "            estado_matriz1 = [i for fila in matriz_1 for i in fila if i == 'b1' or i == 'b2']\n",
    "                \n",
    "            if len(estado_matriz1) == 0:\n",
    "                print('El jugador 2 ha ganado')\n",
    "                final = True\n",
    "                continue\n",
    "            else:\n",
    "                continue\n",
    "    \n",
    "    \n",
    "\n"
   ]
  },
  {
   "cell_type": "code",
   "execution_count": 2,
   "id": "b8985bd2-7bd6-4c22-bb26-0e9dad650c3a",
   "metadata": {},
   "outputs": [
    {
     "name": "stdout",
     "output_type": "stream",
     "text": [
      "este es su tablero de juego Jugador 1\n",
      "['x', 'x', 'x', 'a', 'a']\n",
      "['a', 'a', 'a', 'a', 'a']\n",
      "['a', 'a', 'x', 'n', 'a']\n",
      "['a', 'a', 'x', 'a', 'a']\n",
      "['a', 'a', 'a', 'a', 'n']\n"
     ]
    }
   ],
   "source": [
    "print(\"este es su tablero de juego Jugador 1\")\n",
    "for fila in matriz_1:\n",
    "    print (fila)"
   ]
  },
  {
   "cell_type": "code",
   "execution_count": 3,
   "id": "2ba42147-889c-4f0b-a3bf-f1117b1e6a3a",
   "metadata": {},
   "outputs": [
    {
     "name": "stdout",
     "output_type": "stream",
     "text": [
      "este es su tablero de juego Jugador 1\n",
      "['a', 'a', 'a', 'a', 'a']\n",
      "['n', 'x', 'b2', 'b2', 'a']\n",
      "['a', 'n', 'a', 'a', 'n']\n",
      "['a', 'n', 'a', 'a', 'x']\n",
      "['a', 'a', 'a', 'a', 'x']\n"
     ]
    }
   ],
   "source": [
    "print(\"este es su tablero de juego Jugador 1\")\n",
    "for fila in matriz_2:\n",
    "    print (fila)"
   ]
  },
  {
   "cell_type": "code",
   "execution_count": null,
   "id": "ac5eeb3b-829e-43cf-aff2-806797fb31f1",
   "metadata": {},
   "outputs": [],
   "source": []
  },
  {
   "cell_type": "code",
   "execution_count": null,
   "id": "43894c7c-e92b-4b99-906e-dc630d771691",
   "metadata": {},
   "outputs": [],
   "source": []
  }
 ],
 "metadata": {
  "kernelspec": {
   "display_name": "Python 3 (ipykernel)",
   "language": "python",
   "name": "python3"
  },
  "language_info": {
   "codemirror_mode": {
    "name": "ipython",
    "version": 3
   },
   "file_extension": ".py",
   "mimetype": "text/x-python",
   "name": "python",
   "nbconvert_exporter": "python",
   "pygments_lexer": "ipython3",
   "version": "3.12.4"
  }
 },
 "nbformat": 4,
 "nbformat_minor": 5
}
